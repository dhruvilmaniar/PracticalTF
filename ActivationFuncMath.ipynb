{
  "nbformat": 4,
  "nbformat_minor": 0,
  "metadata": {
    "colab": {
      "name": "ActivationFuncMath.ipynb",
      "provenance": [],
      "collapsed_sections": [],
      "include_colab_link": true
    },
    "kernelspec": {
      "name": "python3",
      "display_name": "Python 3"
    }
  },
  "cells": [
    {
      "cell_type": "markdown",
      "metadata": {
        "id": "view-in-github",
        "colab_type": "text"
      },
      "source": [
        "<a href=\"https://colab.research.google.com/github/dhruvilmaniar/PracticalTF/blob/master/ActivationFuncMath.ipynb\" target=\"_parent\"><img src=\"https://colab.research.google.com/assets/colab-badge.svg\" alt=\"Open In Colab\"/></a>"
      ]
    },
    {
      "cell_type": "code",
      "metadata": {
        "id": "0uzro1MNqAOt",
        "colab_type": "code",
        "colab": {}
      },
      "source": [
        "import numpy as np\n",
        "import matplotlib.pyplot as plt"
      ],
      "execution_count": 0,
      "outputs": []
    },
    {
      "cell_type": "markdown",
      "metadata": {
        "id": "yY67yPBFuZ96",
        "colab_type": "text"
      },
      "source": [
        "# **Mathematical Foundations of Activation Functions in Neural Network**\n",
        "\n",
        "* There are basically the following Non-linear activation functions in the Neural Network (main):\n",
        "  * Sigmoid\n",
        "  * ReLU\n",
        "  * Tanh\n",
        "  * Leaky ReLU"
      ]
    },
    {
      "cell_type": "markdown",
      "metadata": {
        "id": "VKXMmb00vMHS",
        "colab_type": "text"
      },
      "source": [
        "**Sigmoid Activation Function:**\n",
        "\n",
        "* It is also known as logistic function.\n",
        "* Sigmoid is one of the most commonly used activation function.\n",
        "\n",
        "Mathematically, it is defined as:\n",
        "\n",
        "Sigmoid(z) = 1 / (1 + exp(-z))\n",
        "\n",
        "Figure below shows the graph of sigmoid function:"
      ]
    },
    {
      "cell_type": "code",
      "metadata": {
        "id": "hWyxQzmFuRCy",
        "colab_type": "code",
        "colab": {
          "base_uri": "https://localhost:8080/",
          "height": 312
        },
        "outputId": "3106d460-fcb7-450f-d4a9-afd7446b4500"
      },
      "source": [
        "x = np.linspace(-10, 10, 100)\n",
        "z = 1 / (1 + np.exp(-x))\n",
        "plt.plot(x, z)\n",
        "plt.title('Sigmoid Function')\n",
        "plt.xlabel('X')\n",
        "plt.ylabel('sigmoid(x)')"
      ],
      "execution_count": 3,
      "outputs": [
        {
          "output_type": "execute_result",
          "data": {
            "text/plain": [
              "Text(0, 0.5, 'sigmoid(x)')"
            ]
          },
          "metadata": {
            "tags": []
          },
          "execution_count": 3
        },
        {
          "output_type": "display_data",
          "data": {
            "image/png": "[encoded data removed]",
            "text/plain": [
              "<Figure size 432x288 with 1 Axes>"
            ]
          },
          "metadata": {
            "tags": []
          }
        }
      ]
    },
    {
      "cell_type": "markdown",
      "metadata": {
        "id": "P4yFVp6owiRZ",
        "colab_type": "text"
      },
      "source": [
        "**ReLU activation Function:**\n",
        "\n",
        "* ReLU stands for Rectified Linear Unit.\n",
        "* ReLU is preffered choice for neural networks as it provides 0 for each Negative values of the input.\n",
        "* ReLU provides the value itself for each positive value of Input.\n",
        "\n",
        "Figure below shows the diagram for ReLU activation Function:"
      ]
    },
    {
      "cell_type": "code",
      "metadata": {
        "id": "ogRTAy8buRGJ",
        "colab_type": "code",
        "colab": {
          "base_uri": "https://localhost:8080/",
          "height": 312
        },
        "outputId": "5d1deb1c-e16c-475a-f343-b22fd420f952"
      },
      "source": [
        "x = np.linspace(-10, 10, 100)\n",
        "z = np.maximum(0., x)\n",
        "plt.plot(x, z)\n",
        "plt.title('ReLU activation Function')\n",
        "plt.xlabel('x')\n",
        "plt.ylabel('ReLU(x)')"
      ],
      "execution_count": 4,
      "outputs": [
        {
          "output_type": "execute_result",
          "data": {
            "text/plain": [
              "Text(0, 0.5, 'ReLU(x)')"
            ]
          },
          "metadata": {
            "tags": []
          },
          "execution_count": 4
        },
        {
          "output_type": "display_data",
          "data": {
            "image/png": "[encoded data removed]",
            "text/plain": [
              "<Figure size 432x288 with 1 Axes>"
            ]
          },
          "metadata": {
            "tags": []
          }
        }
      ]
    },
    {
      "cell_type": "markdown",
      "metadata": {
        "id": "HOmOm97Qx5GY",
        "colab_type": "text"
      },
      "source": [
        "# **Creating a Toy Neural Network with Custom defined Activation Functions:**\n",
        "\n",
        "Let there be a toy Neural network with 1 Input Layer ( 2 units), 1 Hidden Layer (2 Units) and 1 Output layer with 1 Unit.\n",
        "\n",
        "Let the activation of the Hidden layer be ReLU.\n",
        "\n",
        "The weights and biases are defined as follows:"
      ]
    },
    {
      "cell_type": "code",
      "metadata": {
        "id": "t9tNKeXFuQ8g",
        "colab_type": "code",
        "colab": {
          "base_uri": "https://localhost:8080/",
          "height": 68
        },
        "outputId": "dc60bafd-f961-460e-e103-35586515dfa3"
      },
      "source": [
        "w = np.array([[1, 0.5], [2, 1]])\n",
        "b = np.array([-2, 0.5])\n",
        "i = np.array([[1, 2], [-1, 2]])\n",
        "\n",
        "# Here i is the input to the hidden layer, as we are only concerned about the hidden layer.\n",
        "\n",
        "print(f'Attributes of W : Rank = {w.ndim}, Shape = {w.shape}, Datatype = {w.dtype}')\n",
        "print(f'Attributes of b : Rank = {b.ndim}, Shape = {b.shape}, Datatype = {b.dtype}')\n",
        "print(f'Attributes of i : Rank = {i.ndim}, Shape = {i.shape}, Datatype = {i.dtype}')"
      ],
      "execution_count": 5,
      "outputs": [
        {
          "output_type": "stream",
          "text": [
            "Attributes of W : Rank = 2, Shape = (2, 2), Datatype = float64\n",
            "Attributes of b : Rank = 1, Shape = (2,), Datatype = float64\n",
            "Attributes of i : Rank = 2, Shape = (2, 2), Datatype = int64\n"
          ],
          "name": "stdout"
        }
      ]
    },
    {
      "cell_type": "code",
      "metadata": {
        "id": "XOOUx2NWqARz",
        "colab_type": "code",
        "colab": {
          "base_uri": "https://localhost:8080/",
          "height": 68
        },
        "outputId": "e3ae1cc8-f071-42e4-972f-bd50801ef8e2"
      },
      "source": [
        "# First, we will calculate linear combination and add Bias to it.\n",
        "\n",
        "linear_comb_with_bias = (np.dot(w, i) + b)\n",
        "\n",
        "print(f'Attributes of linear_comb_with_bias : Rank = {linear_comb_with_bias.ndim}, Shape = {linear_comb_with_bias.shape}, Datatype = {linear_comb_with_bias.dtype}')\n",
        "print(linear_comb_with_bias)"
      ],
      "execution_count": 8,
      "outputs": [
        {
          "output_type": "stream",
          "text": [
            "Attributes of linear_comb_with_bias : Rank = 2, Shape = (2, 2), Datatype = float64\n",
            "[[-1.5  3.5]\n",
            " [-1.   6.5]]\n"
          ],
          "name": "stdout"
        }
      ]
    },
    {
      "cell_type": "code",
      "metadata": {
        "id": "BLUuY0iQqAUv",
        "colab_type": "code",
        "colab": {
          "base_uri": "https://localhost:8080/",
          "height": 68
        },
        "outputId": "e226bb1b-316d-43b1-fc83-26eb123a1851"
      },
      "source": [
        "# Now, let's apply non linear activation function to it :\n",
        "\n",
        "o = np.maximum(0., linear_comb_with_bias)\n",
        "\n",
        "print(f'Attributes of o : Rank = {o.ndim}, Shape = {o.shape}, Datatype = {o.dtype}')\n",
        "print(o)"
      ],
      "execution_count": 9,
      "outputs": [
        {
          "output_type": "stream",
          "text": [
            "Attributes of o : Rank = 2, Shape = (2, 2), Datatype = float64\n",
            "[[0.  3.5]\n",
            " [0.  6.5]]\n"
          ],
          "name": "stdout"
        }
      ]
    },
    {
      "cell_type": "markdown",
      "metadata": {
        "id": "3VFl8zGY01Jf",
        "colab_type": "text"
      },
      "source": [
        "**Here, note that both Sigmoid and ReLU are element wise functions, meaning they will perform the operations element wise, and hence can be parallelized.**\n",
        "\n",
        "\n",
        "---\n",
        "\n",
        "\n",
        "Here we have calculated the output of our hidden layer, considering the bias terms.\n",
        "\n",
        "Similarly, output for the last layer can be calculated."
      ]
    }
  ]
}