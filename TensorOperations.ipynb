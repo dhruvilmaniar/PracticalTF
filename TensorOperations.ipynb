{
  "nbformat": 4,
  "nbformat_minor": 0,
  "metadata": {
    "colab": {
      "name": "TensorOperations.ipynb",
      "provenance": [],
      "collapsed_sections": [],
      "include_colab_link": true
    },
    "kernelspec": {
      "name": "python3",
      "display_name": "Python 3"
    }
  },
  "cells": [
    {
      "cell_type": "markdown",
      "metadata": {
        "id": "view-in-github",
        "colab_type": "text"
      },
      "source": [
        "<a href=\"https://colab.research.google.com/github/dhruvilmaniar/PracticalTF/blob/master/TensorOperations.ipynb\" target=\"_parent\"><img src=\"https://colab.research.google.com/assets/colab-badge.svg\" alt=\"Open In Colab\"/></a>"
      ]
    },
    {
      "cell_type": "markdown",
      "metadata": {
        "id": "Pq_f86W8n4Bj",
        "colab_type": "text"
      },
      "source": [
        "# **Broadcasting**\n",
        "\n",
        "Brodcasting is used to make the two tensors used in the computation into compatible size.\n",
        "\n",
        "Say you want to add two tensors having different rank, different ndim.\n",
        "\n",
        "In such case, broadcasting may help us as follows:\n",
        "* It adds extra dimension into smaller ndim tensor to match the ndim of the larger tensor. This axis is known as broadcasting axis.\n",
        "* The smaller tensor is then repeated multiple times to match the dimensions of the first tensor."
      ]
    },
    {
      "cell_type": "code",
      "metadata": {
        "id": "Ia0jfB9X-GER",
        "colab_type": "code",
        "colab": {}
      },
      "source": [
        "import numpy as np"
      ],
      "execution_count": 0,
      "outputs": []
    },
    {
      "cell_type": "code",
      "metadata": {
        "id": "1pbmVCey-GCh",
        "colab_type": "code",
        "colab": {
          "base_uri": "https://localhost:8080/",
          "height": 51
        },
        "outputId": "7a2d20b4-a3c1-4a4b-eb87-9b639c40c883"
      },
      "source": [
        "x = np.random.rand(32,10)\n",
        "y = np.random.rand(10,)\n",
        "\n",
        "print(x.ndim, x.shape)\n",
        "print(y.ndim, y.shape)"
      ],
      "execution_count": 2,
      "outputs": [
        {
          "output_type": "stream",
          "text": [
            "2 (32, 10)\n",
            "1 (10,)\n"
          ],
          "name": "stdout"
        }
      ]
    },
    {
      "cell_type": "code",
      "metadata": {
        "id": "4wDAdZ6q-GAt",
        "colab_type": "code",
        "colab": {
          "base_uri": "https://localhost:8080/",
          "height": 34
        },
        "outputId": "24749b3c-0cf5-4153-ff7a-a57e425d5f60"
      },
      "source": [
        "y = np.expand_dims(y, axis=0)\n",
        "print(y.ndim, y.shape)\n",
        "# after completing the first bullet, shape is:"
      ],
      "execution_count": 3,
      "outputs": [
        {
          "output_type": "stream",
          "text": [
            "2 (1, 10)\n"
          ],
          "name": "stdout"
        }
      ]
    },
    {
      "cell_type": "code",
      "metadata": {
        "id": "Tz6Rb4Xy-F-r",
        "colab_type": "code",
        "colab": {
          "base_uri": "https://localhost:8080/",
          "height": 34
        },
        "outputId": "3a577060-5108-4a83-8220-096aaf9281dd"
      },
      "source": [
        "y = np.repeat(y, 32, axis = 0)\n",
        "print(y.ndim, y.shape)"
      ],
      "execution_count": 4,
      "outputs": [
        {
          "output_type": "stream",
          "text": [
            "2 (32, 10)\n"
          ],
          "name": "stdout"
        }
      ]
    },
    {
      "cell_type": "code",
      "metadata": {
        "id": "EBJrl1M5-F8T",
        "colab_type": "code",
        "colab": {}
      },
      "source": [
        "print(x+y)"
      ],
      "execution_count": 0,
      "outputs": []
    },
    {
      "cell_type": "markdown",
      "metadata": {
        "id": "HRD8I6VZqIlE",
        "colab_type": "text"
      },
      "source": [
        "**However, numpy does this for us:**"
      ]
    },
    {
      "cell_type": "code",
      "metadata": {
        "id": "dCg1Ads_p9oN",
        "colab_type": "code",
        "colab": {
          "base_uri": "https://localhost:8080/",
          "height": 34
        },
        "outputId": "7981ac8d-a7ad-4fbb-c531-4f734a83e65f"
      },
      "source": [
        "x = np.random.rand(32,10)\n",
        "y = np.random.rand(10)\n",
        "print((x+y).shape)"
      ],
      "execution_count": 6,
      "outputs": [
        {
          "output_type": "stream",
          "text": [
            "(32, 10)\n"
          ],
          "name": "stdout"
        }
      ]
    },
    {
      "cell_type": "markdown",
      "metadata": {
        "id": "Fvaots-sqgjy",
        "colab_type": "text"
      },
      "source": [
        "# **Tensor Reshaping**\n",
        "\n",
        "Tensor reshaping is mainly used in data pre processing. It is generally used to modify the tensor to match the other tensor's shape."
      ]
    },
    {
      "cell_type": "code",
      "metadata": {
        "id": "WRMmuYxZp9tL",
        "colab_type": "code",
        "colab": {
          "base_uri": "https://localhost:8080/",
          "height": 119
        },
        "outputId": "dee98792-45d5-42a3-bcc7-22b3486d1671"
      },
      "source": [
        "x = np.random.rand(5,2)\n",
        "\n",
        "print(x.ndim, x.shape)\n",
        "print(x)"
      ],
      "execution_count": 9,
      "outputs": [
        {
          "output_type": "stream",
          "text": [
            "2 (5, 2)\n",
            "[[0.27066153 0.98105153]\n",
            " [0.71927129 0.20549047]\n",
            " [0.59830151 0.25837115]\n",
            " [0.4129494  0.10804189]\n",
            " [0.29173388 0.74524165]]\n"
          ],
          "name": "stdout"
        }
      ]
    },
    {
      "cell_type": "code",
      "metadata": {
        "id": "8UsF5E0Vp9rF",
        "colab_type": "code",
        "colab": {
          "base_uri": "https://localhost:8080/",
          "height": 204
        },
        "outputId": "72279b22-68b7-4873-d102-f8b1fd1c1a2a"
      },
      "source": [
        "# Reshaping (5,2) to (10,) matrix:\n",
        "\n",
        "x = x.reshape((10,1))\n",
        "print(x.ndim, x.shape)\n",
        "print(x)"
      ],
      "execution_count": 11,
      "outputs": [
        {
          "output_type": "stream",
          "text": [
            "2 (10, 1)\n",
            "[[0.27066153]\n",
            " [0.98105153]\n",
            " [0.71927129]\n",
            " [0.20549047]\n",
            " [0.59830151]\n",
            " [0.25837115]\n",
            " [0.4129494 ]\n",
            " [0.10804189]\n",
            " [0.29173388]\n",
            " [0.74524165]]\n"
          ],
          "name": "stdout"
        }
      ]
    },
    {
      "cell_type": "markdown",
      "metadata": {
        "id": "pGp5idrWrbHo",
        "colab_type": "text"
      },
      "source": [
        "**Transpose of a Tensor**\n",
        "\n",
        "It is the same as it sounds. It converts rows into columns and columns into rows."
      ]
    },
    {
      "cell_type": "code",
      "metadata": {
        "id": "3e4jt3hvp9mt",
        "colab_type": "code",
        "colab": {
          "base_uri": "https://localhost:8080/",
          "height": 170
        },
        "outputId": "1d427bd0-4858-46f3-c8f5-5abad638a368"
      },
      "source": [
        "x = np.random.rand(5,2)\n",
        "print(x.ndim, x.shape)\n",
        "print(x)\n",
        "x = np.transpose(x)\n",
        "print(x.ndim, x.shape)\n",
        "print(x)"
      ],
      "execution_count": 15,
      "outputs": [
        {
          "output_type": "stream",
          "text": [
            "2 (5, 2)\n",
            "[[0.58802859 0.91225148]\n",
            " [0.0328415  0.3816977 ]\n",
            " [0.84210579 0.11335989]\n",
            " [0.36423349 0.73491587]\n",
            " [0.22402632 0.20096492]]\n",
            "2 (2, 5)\n",
            "[[0.58802859 0.0328415  0.84210579 0.36423349 0.22402632]\n",
            " [0.91225148 0.3816977  0.11335989 0.73491587 0.20096492]]\n"
          ],
          "name": "stdout"
        }
      ]
    }
  ]
}