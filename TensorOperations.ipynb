{
  "nbformat": 4,
  "nbformat_minor": 0,
  "metadata": {
    "colab": {
      "name": "TensorOperations.ipynb",
      "provenance": [],
      "collapsed_sections": [
        "Pq_f86W8n4Bj",
        "Fvaots-sqgjy"
      ],
      "include_colab_link": true
    },
    "kernelspec": {
      "name": "python3",
      "display_name": "Python 3"
    }
  },
  "cells": [
    {
      "cell_type": "markdown",
      "metadata": {
        "id": "view-in-github",
        "colab_type": "text"
      },
      "source": [
        "<a href=\"https://colab.research.google.com/github/dhruvilmaniar/PracticalTF/blob/master/TensorOperations.ipynb\" target=\"_parent\"><img src=\"https://colab.research.google.com/assets/colab-badge.svg\" alt=\"Open In Colab\"/></a>"
      ]
    },
    {
      "cell_type": "markdown",
      "metadata": {
        "id": "Pq_f86W8n4Bj",
        "colab_type": "text"
      },
      "source": [
        "# **Broadcasting**\n",
        "\n",
        "Brodcasting is used to make the two tensors used in the computation into compatible size.\n",
        "\n",
        "Say you want to add two tensors having different rank, different ndim.\n",
        "\n",
        "In such case, broadcasting may help us as follows:\n",
        "* It adds extra dimension into smaller ndim tensor to match the ndim of the larger tensor. This axis is known as broadcasting axis.\n",
        "* The smaller tensor is then repeated multiple times to match the dimensions of the first tensor."
      ]
    },
    {
      "cell_type": "code",
      "metadata": {
        "id": "Ia0jfB9X-GER",
        "colab_type": "code",
        "colab": {}
      },
      "source": [
        "import numpy as np"
      ],
      "execution_count": 0,
      "outputs": []
    },
    {
      "cell_type": "code",
      "metadata": {
        "id": "1pbmVCey-GCh",
        "colab_type": "code",
        "outputId": "7a2d20b4-a3c1-4a4b-eb87-9b639c40c883",
        "colab": {
          "base_uri": "https://localhost:8080/",
          "height": 51
        }
      },
      "source": [
        "x = np.random.rand(32,10)\n",
        "y = np.random.rand(10,)\n",
        "\n",
        "print(x.ndim, x.shape)\n",
        "print(y.ndim, y.shape)"
      ],
      "execution_count": 0,
      "outputs": [
        {
          "output_type": "stream",
          "text": [
            "2 (32, 10)\n",
            "1 (10,)\n"
          ],
          "name": "stdout"
        }
      ]
    },
    {
      "cell_type": "code",
      "metadata": {
        "id": "4wDAdZ6q-GAt",
        "colab_type": "code",
        "outputId": "24749b3c-0cf5-4153-ff7a-a57e425d5f60",
        "colab": {
          "base_uri": "https://localhost:8080/",
          "height": 34
        }
      },
      "source": [
        "y = np.expand_dims(y, axis=0)\n",
        "print(y.ndim, y.shape)\n",
        "# after completing the first bullet, shape is:"
      ],
      "execution_count": 0,
      "outputs": [
        {
          "output_type": "stream",
          "text": [
            "2 (1, 10)\n"
          ],
          "name": "stdout"
        }
      ]
    },
    {
      "cell_type": "code",
      "metadata": {
        "id": "Tz6Rb4Xy-F-r",
        "colab_type": "code",
        "outputId": "3a577060-5108-4a83-8220-096aaf9281dd",
        "colab": {
          "base_uri": "https://localhost:8080/",
          "height": 34
        }
      },
      "source": [
        "y = np.repeat(y, 32, axis = 0)\n",
        "print(y.ndim, y.shape)"
      ],
      "execution_count": 0,
      "outputs": [
        {
          "output_type": "stream",
          "text": [
            "2 (32, 10)\n"
          ],
          "name": "stdout"
        }
      ]
    },
    {
      "cell_type": "code",
      "metadata": {
        "id": "EBJrl1M5-F8T",
        "colab_type": "code",
        "colab": {}
      },
      "source": [
        "print(x+y)"
      ],
      "execution_count": 0,
      "outputs": []
    },
    {
      "cell_type": "markdown",
      "metadata": {
        "id": "HRD8I6VZqIlE",
        "colab_type": "text"
      },
      "source": [
        "**However, numpy does this for us:**"
      ]
    },
    {
      "cell_type": "code",
      "metadata": {
        "id": "dCg1Ads_p9oN",
        "colab_type": "code",
        "outputId": "7981ac8d-a7ad-4fbb-c531-4f734a83e65f",
        "colab": {
          "base_uri": "https://localhost:8080/",
          "height": 34
        }
      },
      "source": [
        "x = np.random.rand(32,10)\n",
        "y = np.random.rand(10)\n",
        "print((x+y).shape)"
      ],
      "execution_count": 0,
      "outputs": [
        {
          "output_type": "stream",
          "text": [
            "(32, 10)\n"
          ],
          "name": "stdout"
        }
      ]
    },
    {
      "cell_type": "markdown",
      "metadata": {
        "id": "Fvaots-sqgjy",
        "colab_type": "text"
      },
      "source": [
        "# **Tensor Reshaping**\n",
        "\n",
        "Tensor reshaping is mainly used in data pre processing. It is generally used to modify the tensor to match the other tensor's shape."
      ]
    },
    {
      "cell_type": "code",
      "metadata": {
        "id": "WRMmuYxZp9tL",
        "colab_type": "code",
        "outputId": "dee98792-45d5-42a3-bcc7-22b3486d1671",
        "colab": {
          "base_uri": "https://localhost:8080/",
          "height": 119
        }
      },
      "source": [
        "x = np.random.rand(5,2)\n",
        "\n",
        "print(x.ndim, x.shape)\n",
        "print(x)"
      ],
      "execution_count": 0,
      "outputs": [
        {
          "output_type": "stream",
          "text": [
            "2 (5, 2)\n",
            "[[0.27066153 0.98105153]\n",
            " [0.71927129 0.20549047]\n",
            " [0.59830151 0.25837115]\n",
            " [0.4129494  0.10804189]\n",
            " [0.29173388 0.74524165]]\n"
          ],
          "name": "stdout"
        }
      ]
    },
    {
      "cell_type": "code",
      "metadata": {
        "id": "8UsF5E0Vp9rF",
        "colab_type": "code",
        "outputId": "72279b22-68b7-4873-d102-f8b1fd1c1a2a",
        "colab": {
          "base_uri": "https://localhost:8080/",
          "height": 204
        }
      },
      "source": [
        "# Reshaping (5,2) to (10,) matrix:\n",
        "\n",
        "x = x.reshape((10,1))\n",
        "print(x.ndim, x.shape)\n",
        "print(x)"
      ],
      "execution_count": 0,
      "outputs": [
        {
          "output_type": "stream",
          "text": [
            "2 (10, 1)\n",
            "[[0.27066153]\n",
            " [0.98105153]\n",
            " [0.71927129]\n",
            " [0.20549047]\n",
            " [0.59830151]\n",
            " [0.25837115]\n",
            " [0.4129494 ]\n",
            " [0.10804189]\n",
            " [0.29173388]\n",
            " [0.74524165]]\n"
          ],
          "name": "stdout"
        }
      ]
    },
    {
      "cell_type": "markdown",
      "metadata": {
        "id": "pGp5idrWrbHo",
        "colab_type": "text"
      },
      "source": [
        "**Transpose of a Tensor**\n",
        "\n",
        "It is the same as it sounds. It converts rows into columns and columns into rows."
      ]
    },
    {
      "cell_type": "code",
      "metadata": {
        "id": "3e4jt3hvp9mt",
        "colab_type": "code",
        "outputId": "1d427bd0-4858-46f3-c8f5-5abad638a368",
        "colab": {
          "base_uri": "https://localhost:8080/",
          "height": 170
        }
      },
      "source": [
        "x = np.random.rand(5,2)\n",
        "print(x.ndim, x.shape)\n",
        "print(x)\n",
        "x = np.transpose(x)\n",
        "print(x.ndim, x.shape)\n",
        "print(x)"
      ],
      "execution_count": 0,
      "outputs": [
        {
          "output_type": "stream",
          "text": [
            "2 (5, 2)\n",
            "[[0.58802859 0.91225148]\n",
            " [0.0328415  0.3816977 ]\n",
            " [0.84210579 0.11335989]\n",
            " [0.36423349 0.73491587]\n",
            " [0.22402632 0.20096492]]\n",
            "2 (2, 5)\n",
            "[[0.58802859 0.0328415  0.84210579 0.36423349 0.22402632]\n",
            " [0.91225148 0.3816977  0.11335989 0.73491587 0.20096492]]\n"
          ],
          "name": "stdout"
        }
      ]
    },
    {
      "cell_type": "markdown",
      "metadata": {
        "id": "ccqE5Gvsr3o1",
        "colab_type": "text"
      },
      "source": [
        "# **Tensors and Numpy Arrays**\n",
        "\n",
        "A tensor is a multi-dimensional array, similar to numpy ndarrays.\n",
        "tf.Tensor objects have a datatype and a shape like numpy ndarrays. Additionally,\n",
        "tf.Tensors can reside in accelerator's memory, and also can be used to perform operations such as tf.add, tf.matmul, tf.square etc.\n",
        "\n",
        "These operations produces and requires the data to be a tensor object, however,\n",
        "These operations automatically converts native python types and numpy objects into tensors. For ex:"
      ]
    },
    {
      "cell_type": "code",
      "metadata": {
        "id": "ZwXFJrivr06Y",
        "colab_type": "code",
        "colab": {
          "base_uri": "https://localhost:8080/",
          "height": 34
        },
        "outputId": "8835425b-5404-44fa-a173-4a17d3dc9f80"
      },
      "source": [
        "%tensorflow_version 2.x\n",
        "\n",
        "import tensorflow as tf"
      ],
      "execution_count": 3,
      "outputs": [
        {
          "output_type": "stream",
          "text": [
            "TensorFlow 2.x selected.\n"
          ],
          "name": "stdout"
        }
      ]
    },
    {
      "cell_type": "code",
      "metadata": {
        "id": "3aYH2FK-veU3",
        "colab_type": "code",
        "colab": {
          "base_uri": "https://localhost:8080/",
          "height": 34
        },
        "outputId": "b94bf307-5a79-41be-ea91-045802eb423a"
      },
      "source": [
        "# We can add two scalers just by typing:\n",
        "\n",
        "print(tf.add(3,6))\n",
        "# returns tf.Tensor(9, shape = (), dtype = int)"
      ],
      "execution_count": 7,
      "outputs": [
        {
          "output_type": "stream",
          "text": [
            "tf.Tensor(9, shape=(), dtype=int32)\n"
          ],
          "name": "stdout"
        }
      ]
    },
    {
      "cell_type": "code",
      "metadata": {
        "id": "YbPRjcFAveXt",
        "colab_type": "code",
        "colab": {
          "base_uri": "https://localhost:8080/",
          "height": 34
        },
        "outputId": "7b60e532-e1a1-4726-db55-35f10f97efc2"
      },
      "source": [
        "# In the same manner, we can add two vectors as follows:\n",
        "print(tf.add([1,4],[2,7]))\n",
        "# returns tf.Tensor([3,11], shape = (2,), dtype = int)"
      ],
      "execution_count": 8,
      "outputs": [
        {
          "output_type": "stream",
          "text": [
            "tf.Tensor([ 3 11], shape=(2,), dtype=int32)\n"
          ],
          "name": "stdout"
        }
      ]
    },
    {
      "cell_type": "code",
      "metadata": {
        "id": "ZAui2CWKvedG",
        "colab_type": "code",
        "colab": {
          "base_uri": "https://localhost:8080/",
          "height": 51
        },
        "outputId": "f45edc2c-9a48-4276-b026-5d2e2c764da5"
      },
      "source": [
        "#  Tensor operations:\n",
        "\n",
        "print(tf.square(5))\n",
        "# returns tf.Tensor(25, shape=(), dtype=int)\n",
        "\n",
        "print(tf.square([2,6]))\n",
        "# returns tf.Tensor([4,36], shape=(2,), dtype = int)"
      ],
      "execution_count": 9,
      "outputs": [
        {
          "output_type": "stream",
          "text": [
            "tf.Tensor(25, shape=(), dtype=int32)\n",
            "tf.Tensor([ 4 36], shape=(2,), dtype=int32)\n"
          ],
          "name": "stdout"
        }
      ]
    },
    {
      "cell_type": "code",
      "metadata": {
        "id": "b3biQSj5veiy",
        "colab_type": "code",
        "colab": {
          "base_uri": "https://localhost:8080/",
          "height": 34
        },
        "outputId": "eca44b99-176b-494e-e1ad-3b2299364309"
      },
      "source": [
        "# Sum all the elements in the tensor:\n",
        "\n",
        "print(tf.reduce_sum([2,4,65,7,3]))\n",
        "# returns tf.Tensor(x, shape=(), dtype = int), x = sum of elements in array"
      ],
      "execution_count": 13,
      "outputs": [
        {
          "output_type": "stream",
          "text": [
            "tf.Tensor(81, shape=(), dtype=int32)\n"
          ],
          "name": "stdout"
        }
      ]
    },
    {
      "cell_type": "code",
      "metadata": {
        "id": "SBCB9n7hveoO",
        "colab_type": "code",
        "colab": {
          "base_uri": "https://localhost:8080/",
          "height": 34
        },
        "outputId": "211991cf-8f3d-46ed-d99f-dac1b27ff716"
      },
      "source": [
        "# Operator overloading:\n",
        "\n",
        "print(tf.square(5) + tf.square(2))\n",
        "# returns tf.Tensor(29, shape = (), dtype= int)"
      ],
      "execution_count": 14,
      "outputs": [
        {
          "output_type": "stream",
          "text": [
            "tf.Tensor(29, shape=(), dtype=int32)\n"
          ],
          "name": "stdout"
        }
      ]
    },
    {
      "cell_type": "markdown",
      "metadata": {
        "id": "0eHW4aXE1WtD",
        "colab_type": "text"
      },
      "source": [
        "**Matrix Multiplication:**"
      ]
    },
    {
      "cell_type": "code",
      "metadata": {
        "id": "JeOiM3PUverq",
        "colab_type": "code",
        "colab": {
          "base_uri": "https://localhost:8080/",
          "height": 170
        },
        "outputId": "bf282458-44d0-4354-caac-5d24aaee6845"
      },
      "source": [
        "x = np.array([[1]])\n",
        "y = np.array([[6,7]])\n",
        "print(x.shape, x.ndim)\n",
        "print(y.shape, y.ndim)\n",
        "\n",
        "z = tf.matmul(x,y)\n",
        "print(z)\n",
        "print(z.shape, z.ndim)\n",
        "\n",
        "x = np.array([[1,2,4,3],[1,6,6,3]])\n",
        "y = np.array([[1],[3],[5],[3]])\n",
        "print(x.shape, x.ndim)\n",
        "print(y.shape, y.ndim)\n",
        "\n",
        "z = tf.matmul(x,y)\n",
        "print(z)"
      ],
      "execution_count": 34,
      "outputs": [
        {
          "output_type": "stream",
          "text": [
            "(1, 1) 2\n",
            "(1, 2) 2\n",
            "tf.Tensor([[6 7]], shape=(1, 2), dtype=int64)\n",
            "(1, 2) 2\n",
            "(2, 4) 2\n",
            "(4, 1) 2\n",
            "tf.Tensor(\n",
            "[[36]\n",
            " [58]], shape=(2, 1), dtype=int64)\n"
          ],
          "name": "stdout"
        }
      ]
    },
    {
      "cell_type": "markdown",
      "metadata": {
        "id": "qROVJkwc6UvB",
        "colab_type": "text"
      },
      "source": [
        "**The main two differences between Tensors and Numpy Arrays are:**\n",
        "1. Tensor operations can be accelerated by Hardware Accelerators (GPUs, TPUs).\n",
        "2. Tensors are immutable."
      ]
    },
    {
      "cell_type": "markdown",
      "metadata": {
        "id": "qP4eO8Sj6xGd",
        "colab_type": "text"
      },
      "source": [
        "**Tensors and Numpy Compatiblity:**\n",
        "\n",
        "Tensors and Numpy arrays are easily converted to one-another automatically, because they share the same underlying memory allocation. Due to this, the conversation is also cheap.\n",
        "\n",
        "\n",
        "---\n",
        "\n",
        "\n",
        "However, we can convert Tensor into numpy array explicitly by using .numpy() method.\n",
        "\n",
        "Also, sharing the same underlying memory is not always possible, since tensors can be stored inside the accelerator's memory.\n",
        "\n",
        "In case the tf.Tensor is hosted in GPU, first we have to make a copy into CPU and then carry out the conversion into numpy."
      ]
    },
    {
      "cell_type": "code",
      "metadata": {
        "id": "xjCLm8jivemD",
        "colab_type": "code",
        "colab": {
          "base_uri": "https://localhost:8080/",
          "height": 374
        },
        "outputId": "4a041293-a4b5-468d-8d4c-518b988606f6"
      },
      "source": [
        "# Let's take a numpy array and use tensor operations on that:\n",
        "a = np.ones([3,3])\n",
        "print(a)\n",
        "print(a.shape, a.ndim)\n",
        "print()\n",
        "\n",
        "# Using tensor operations on Numpy array:\n",
        "y = tf.add(a, np.ones([3,3]))\n",
        "print(y)\n",
        "print(y.shape, y.ndim)\n",
        "print()\n",
        "\n",
        "z = tf.square(y)\n",
        "print(z)\n",
        "print()\n",
        "\n",
        "# Using numpy operations on tensors:\n",
        "# Also, if you notice, numpy will perform brodcasting operation to the second argument.\n",
        "w = np.add(z, np.random.uniform([3,3,3]))\n",
        "print(w)\n",
        "print(w.shape, w.ndim)\n",
        "print()"
      ],
      "execution_count": 43,
      "outputs": [
        {
          "output_type": "stream",
          "text": [
            "[[1. 1. 1.]\n",
            " [1. 1. 1.]\n",
            " [1. 1. 1.]]\n",
            "(3, 3) 2\n",
            "\n",
            "tf.Tensor(\n",
            "[[2. 2. 2.]\n",
            " [2. 2. 2.]\n",
            " [2. 2. 2.]], shape=(3, 3), dtype=float64)\n",
            "(3, 3) 2\n",
            "\n",
            "tf.Tensor(\n",
            "[[4. 4. 4.]\n",
            " [4. 4. 4.]\n",
            " [4. 4. 4.]], shape=(3, 3), dtype=float64)\n",
            "\n",
            "[[6.57984027 6.44788527 6.40278275]\n",
            " [6.57984027 6.44788527 6.40278275]\n",
            " [6.57984027 6.44788527 6.40278275]]\n",
            "(3, 3) 2\n",
            "\n"
          ],
          "name": "stdout"
        }
      ]
    }
  ]
}