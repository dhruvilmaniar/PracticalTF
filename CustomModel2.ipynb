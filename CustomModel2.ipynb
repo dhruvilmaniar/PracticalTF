{
  "nbformat": 4,
  "nbformat_minor": 0,
  "metadata": {
    "colab": {
      "name": "CustomModel2.ipynb",
      "provenance": [],
      "collapsed_sections": [],
      "include_colab_link": true
    },
    "kernelspec": {
      "name": "python3",
      "display_name": "Python 3"
    },
    "accelerator": "GPU"
  },
  "cells": [
    {
      "cell_type": "markdown",
      "metadata": {
        "id": "view-in-github",
        "colab_type": "text"
      },
      "source": [
        "<a href=\"https://colab.research.google.com/github/dhruvilmaniar/PracticalTF/blob/master/CustomModel2.ipynb\" target=\"_parent\"><img src=\"https://colab.research.google.com/assets/colab-badge.svg\" alt=\"Open In Colab\"/></a>"
      ]
    },
    {
      "cell_type": "code",
      "metadata": {
        "id": "NiFepLmpm4hO",
        "colab_type": "code",
        "colab": {
          "base_uri": "https://localhost:8080/",
          "height": 34
        },
        "outputId": "15a353ba-aa76-4ce8-e5e9-6838707dcb44"
      },
      "source": [
        "%tensorflow_version 2.x\n",
        "\n",
        "import tensorflow as tf\n",
        "import numpy as np\n",
        "import matplotlib.pyplot as plt"
      ],
      "execution_count": 1,
      "outputs": [
        {
          "output_type": "stream",
          "text": [
            "TensorFlow 2.x selected.\n"
          ],
          "name": "stdout"
        }
      ]
    },
    {
      "cell_type": "markdown",
      "metadata": {
        "id": "F4Mt50R4nKau",
        "colab_type": "text"
      },
      "source": [
        "# **Defining A Complete Custom Pipeline**\n",
        "\n",
        "Here, I have defined Custom pipeline for ML Algorithms using tensorflow 2.0"
      ]
    },
    {
      "cell_type": "markdown",
      "metadata": {
        "id": "65-PBkF7npe8",
        "colab_type": "text"
      },
      "source": [
        "**Model Building**"
      ]
    },
    {
      "cell_type": "code",
      "metadata": {
        "id": "a6QDC-xcnjp2",
        "colab_type": "code",
        "colab": {}
      },
      "source": [
        "class Model():\n",
        "\n",
        "  def __init__(self):\n",
        "    self.w = tf.Variable(5.)\n",
        "    self.b = tf.Variable(0.)\n",
        "\n",
        "  def __call__(self, x):\n",
        "    return self.w * x + self.b\n",
        "\n",
        "test = Model()\n",
        "\n",
        "assert test(3.0).numpy() == 15.0"
      ],
      "execution_count": 0,
      "outputs": []
    },
    {
      "cell_type": "markdown",
      "metadata": {
        "id": "6mn2w4dKpcpb",
        "colab_type": "text"
      },
      "source": [
        "**Defining A Loss Function**\n",
        "\n",
        "Here, we will define the L2 loss function."
      ]
    },
    {
      "cell_type": "code",
      "metadata": {
        "id": "Agv2cYJmnkWb",
        "colab_type": "code",
        "colab": {}
      },
      "source": [
        "def loss_function(predicted_y, actual_y):\n",
        "  return tf.reduce_mean(tf.square(predicted_y - actual_y))"
      ],
      "execution_count": 0,
      "outputs": []
    },
    {
      "cell_type": "markdown",
      "metadata": {
        "id": "uyhxFG2wpz3E",
        "colab_type": "text"
      },
      "source": [
        "**Generating Data**\n",
        "\n",
        "Here I will use Gaussian noise to generate random data."
      ]
    },
    {
      "cell_type": "code",
      "metadata": {
        "id": "607Nfrfpnkec",
        "colab_type": "code",
        "colab": {}
      },
      "source": [
        "actual_w = 3.0\n",
        "actual_b = 2.0\n",
        "num_examples = 1000\n",
        "\n",
        "inputs = tf.random.normal(shape=[num_examples])\n",
        "noise = tf.random.normal(shape=[num_examples])\n",
        "outputs = inputs * actual_w + actual_b + noise"
      ],
      "execution_count": 0,
      "outputs": []
    },
    {
      "cell_type": "markdown",
      "metadata": {
        "id": "tJVz_weaqmbM",
        "colab_type": "text"
      },
      "source": [
        "Let's visualize the training data:"
      ]
    },
    {
      "cell_type": "code",
      "metadata": {
        "id": "jMldrgjmnkl7",
        "colab_type": "code",
        "colab": {
          "base_uri": "https://localhost:8080/",
          "height": 286
        },
        "outputId": "9e0b40e5-e715-4771-a21d-a61b0874d3cf"
      },
      "source": [
        "model = Model()\n",
        "\n",
        "plt.scatter(inputs, outputs, c='b')\n",
        "plt.scatter(inputs, model(inputs), c='r')\n",
        "plt.show()\n",
        "\n",
        "print(f'Current loss : {loss_function(model(inputs), outputs).numpy()}')"
      ],
      "execution_count": 16,
      "outputs": [
        {
          "output_type": "display_data",
          "data": {
            "image/png": "[encoded data removed]",
            "text/plain": [
              "<Figure size 432x288 with 1 Axes>"
            ]
          },
          "metadata": {
            "tags": []
          }
        },
        {
          "output_type": "stream",
          "text": [
            "Current loss : 10.048913955688477\n"
          ],
          "name": "stdout"
        }
      ]
    },
    {
      "cell_type": "markdown",
      "metadata": {
        "id": "_0pQdc-1rpU6",
        "colab_type": "text"
      },
      "source": [
        "**Defining Custom Training Loop:**\n",
        "\n",
        "Here I will use Gradient Descent Algorithm as an optimizer.\n",
        "\n",
        "Although Gradient Descent is available in the Standart tf.keras package, I will be calculating all by **Custom defined method** as show below, to **get better intuituion of the math behind** the Algorithm."
      ]
    },
    {
      "cell_type": "code",
      "metadata": {
        "id": "UIHzN6aAnjm6",
        "colab_type": "code",
        "colab": {}
      },
      "source": [
        "def train(model, inputs, outputs, learning_rate = 0.1):\n",
        "\n",
        "  with tf.GradientTape() as tape:\n",
        "    current_loss = loss_function(model(inputs), outputs)\n",
        "  dw, db = tape.gradient(current_loss, [model.w, model.b])\n",
        "  model.w.assign_sub(learning_rate*dw)\n",
        "  model.b.assign_sub(learning_rate*db)"
      ],
      "execution_count": 0,
      "outputs": []
    },
    {
      "cell_type": "markdown",
      "metadata": {
        "id": "JDrAW5wSuEJa",
        "colab_type": "text"
      },
      "source": [
        "**Let's Train The Model!!**\n",
        "\n",
        "This is known as Just Right Fit."
      ]
    },
    {
      "cell_type": "code",
      "metadata": {
        "id": "da-A5rZCnjj_",
        "colab_type": "code",
        "colab": {
          "base_uri": "https://localhost:8080/",
          "height": 435
        },
        "outputId": "703c3b0b-aec6-4c84-9dba-127c1a9ca3ee"
      },
      "source": [
        "model = Model()\n",
        "\n",
        "epochs = range(10)\n",
        "ws, bs = [], []\n",
        "for epoch in epochs:\n",
        "\n",
        "  ws.append(model.w.numpy())\n",
        "  bs.append(model.b.numpy())\n",
        "\n",
        "  current_loss = loss_function(model(inputs), outputs)\n",
        "  train(model, inputs, outputs, learning_rate=0.13)\n",
        "\n",
        "  print(f'Epoch : {epoch} Weights : {ws[-1]:1.2f} bias : {bs[-1]: 1.2f} loss : {current_loss:2.5f}')\n",
        "\n",
        "plt.plot(epochs, ws, 'r', epochs, bs, 'b')\n",
        "plt.plot([actual_w]*len(epochs), 'r--', [actual_b]*len(epochs), 'b--')\n",
        "plt.legend(['W', 'B', 'True W', 'True B'])\n",
        "plt.show()"
      ],
      "execution_count": 30,
      "outputs": [
        {
          "output_type": "stream",
          "text": [
            "Epoch : 0 Weights : 5.00 bias :  0.00 loss : 10.04891\n",
            "Epoch : 1 Weights : 4.40 bias :  0.56 loss : 5.62951\n",
            "Epoch : 2 Weights : 3.98 bias :  0.97 loss : 3.37635\n",
            "Epoch : 3 Weights : 3.68 bias :  1.26 loss : 2.22688\n",
            "Epoch : 4 Weights : 3.48 bias :  1.47 loss : 1.64007\n",
            "Epoch : 5 Weights : 3.33 bias :  1.63 loss : 1.34027\n",
            "Epoch : 6 Weights : 3.22 bias :  1.74 loss : 1.18698\n",
            "Epoch : 7 Weights : 3.15 bias :  1.82 loss : 1.10853\n",
            "Epoch : 8 Weights : 3.10 bias :  1.88 loss : 1.06834\n",
            "Epoch : 9 Weights : 3.06 bias :  1.92 loss : 1.04774\n"
          ],
          "name": "stdout"
        },
        {
          "output_type": "display_data",
          "data": {
            "image/png": "[encoded data removed]",
            "text/plain": [
              "<Figure size 432x288 with 1 Axes>"
            ]
          },
          "metadata": {
            "tags": []
          }
        }
      ]
    },
    {
      "cell_type": "markdown",
      "metadata": {
        "id": "OK0A7JaIxPLn",
        "colab_type": "text"
      },
      "source": [
        "**This is known as Underfitting.**\n",
        "\n",
        "This can be overcome by the following methods:\n",
        "\n",
        "* Increasing the Learning rate."
      ]
    },
    {
      "cell_type": "code",
      "metadata": {
        "id": "77494Haenjf0",
        "colab_type": "code",
        "colab": {
          "base_uri": "https://localhost:8080/",
          "height": 435
        },
        "outputId": "02933bd2-6f79-4a9a-df98-7a9c47270b63"
      },
      "source": [
        "model = Model()\n",
        "\n",
        "epochs = range(10)\n",
        "ws, bs = [], []\n",
        "for epoch in epochs:\n",
        "\n",
        "  ws.append(model.w.numpy())\n",
        "  bs.append(model.b.numpy())\n",
        "\n",
        "  current_loss = loss_function(model(inputs), outputs)\n",
        "  train(model, inputs, outputs, learning_rate=0.01)\n",
        "\n",
        "  print(f'Epoch : {epoch} Weights : {ws[-1]:1.2f} bias : {bs[-1]: 1.2f} loss : {current_loss:2.5f}')\n",
        "\n",
        "plt.plot(epochs, ws, 'r', epochs, bs, 'b')\n",
        "plt.plot([actual_w]*len(epochs), 'r--', [actual_b]*len(epochs), 'b--')\n",
        "plt.legend(['W', 'B', 'True W', 'True B'])\n",
        "plt.show()"
      ],
      "execution_count": 31,
      "outputs": [
        {
          "output_type": "stream",
          "text": [
            "Epoch : 0 Weights : 5.00 bias :  0.00 loss : 10.04891\n",
            "Epoch : 1 Weights : 4.95 bias :  0.04 loss : 9.65658\n",
            "Epoch : 2 Weights : 4.91 bias :  0.09 loss : 9.28133\n",
            "Epoch : 3 Weights : 4.87 bias :  0.13 loss : 8.92241\n",
            "Epoch : 4 Weights : 4.82 bias :  0.17 loss : 8.57911\n",
            "Epoch : 5 Weights : 4.78 bias :  0.21 loss : 8.25075\n",
            "Epoch : 6 Weights : 4.74 bias :  0.25 loss : 7.93668\n",
            "Epoch : 7 Weights : 4.70 bias :  0.28 loss : 7.63627\n",
            "Epoch : 8 Weights : 4.66 bias :  0.32 loss : 7.34894\n",
            "Epoch : 9 Weights : 4.62 bias :  0.36 loss : 7.07412\n"
          ],
          "name": "stdout"
        },
        {
          "output_type": "display_data",
          "data": {
            "image/png": "[encoded data removed]",
            "text/plain": [
              "<Figure size 432x288 with 1 Axes>"
            ]
          },
          "metadata": {
            "tags": []
          }
        }
      ]
    },
    {
      "cell_type": "markdown",
      "metadata": {
        "id": "dt8upv7CxWOS",
        "colab_type": "text"
      },
      "source": [
        "**This is known as Overfitting.**\n",
        "\n",
        "As shown, sometimes the model may never reach the global minima and keeps on oscillating. This can be overcome by the following Methods:\n",
        "\n",
        "* Smaller Learning Rate\n",
        "* Regularization\n",
        "* Adding More Data."
      ]
    },
    {
      "cell_type": "code",
      "metadata": {
        "id": "XLj6FdHDx9xO",
        "colab_type": "code",
        "colab": {
          "base_uri": "https://localhost:8080/",
          "height": 435
        },
        "outputId": "9bfea7d5-68dd-4856-f8a3-1bcf8e460f22"
      },
      "source": [
        "model = Model()\n",
        "\n",
        "epochs = range(10)\n",
        "ws, bs = [], []\n",
        "for epoch in epochs:\n",
        "\n",
        "  ws.append(model.w.numpy())\n",
        "  bs.append(model.b.numpy())\n",
        "\n",
        "  current_loss = loss_function(model(inputs), outputs)\n",
        "  train(model, inputs, outputs, learning_rate=1)\n",
        "\n",
        "  print(f'Epoch : {epoch} Weights : {ws[-1]:1.2f} bias : {bs[-1]: 1.2f} loss : {current_loss:2.5f}')\n",
        "\n",
        "plt.plot(epochs, ws, 'r', epochs, bs, 'b')\n",
        "plt.plot([actual_w]*len(epochs), 'r--', [actual_b]*len(epochs), 'b--')\n",
        "plt.legend(['W', 'B', 'True W', 'True B'])\n",
        "plt.show()"
      ],
      "execution_count": 32,
      "outputs": [
        {
          "output_type": "stream",
          "text": [
            "Epoch : 0 Weights : 5.00 bias :  0.00 loss : 10.04891\n",
            "Epoch : 1 Weights : 0.41 bias :  4.31 loss : 14.02671\n",
            "Epoch : 2 Weights : 6.21 bias : -0.56 loss : 19.96850\n",
            "Epoch : 3 Weights : -1.05 bias :  5.02 loss : 28.81380\n",
            "Epoch : 4 Weights : 7.97 bias : -1.44 loss : 41.95544\n",
            "Epoch : 5 Weights : -3.18 bias :  6.11 loss : 61.45773\n",
            "Epoch : 6 Weights : 10.55 bias : -2.79 loss : 90.37988\n",
            "Epoch : 7 Weights : -6.31 bias :  7.78 loss : 133.25482\n",
            "Epoch : 8 Weights : 14.35 bias : -4.84 loss : 196.79919\n",
            "Epoch : 9 Weights : -10.93 bias :  10.29 loss : 290.96454\n"
          ],
          "name": "stdout"
        },
        {
          "output_type": "display_data",
          "data": {
            "image/png": "[encoded data removed]",
            "text/plain": [
              "<Figure size 432x288 with 1 Axes>"
            ]
          },
          "metadata": {
            "tags": []
          }
        }
      ]
    }
  ]
}