{
  "nbformat": 4,
  "nbformat_minor": 0,
  "metadata": {
    "colab": {
      "name": "Tensors.ipynb",
      "provenance": [],
      "collapsed_sections": [],
      "include_colab_link": true
    },
    "kernelspec": {
      "name": "python3",
      "display_name": "Python 3"
    }
  },
  "cells": [
    {
      "cell_type": "markdown",
      "metadata": {
        "id": "view-in-github",
        "colab_type": "text"
      },
      "source": [
        "<a href=\"https://colab.research.google.com/github/dhruvilmaniar/PracticalTF/blob/master/Tensors.ipynb\" target=\"_parent\"><img src=\"https://colab.research.google.com/assets/colab-badge.svg\" alt=\"Open In Colab\"/></a>"
      ]
    },
    {
      "cell_type": "code",
      "metadata": {
        "id": "5ZeOMaouYB8Y",
        "colab_type": "code",
        "colab": {}
      },
      "source": [
        "import numpy as np"
      ],
      "execution_count": 0,
      "outputs": []
    },
    {
      "cell_type": "markdown",
      "metadata": {
        "id": "ZHpk4nJNYZvG",
        "colab_type": "text"
      },
      "source": [
        "# **What is a Tensor in Computational Language?**\n",
        "\n",
        "* A Tensor is basically a container for data, where we typically store numerical data.\n",
        "* Mathematically tensors are just Multidimentional arrays.\n",
        "\n",
        "\n",
        "---\n",
        "\n",
        "\n",
        "\n",
        "**Tensor Attributes:**\n",
        "* A tensor can be addressed by the following attributes:\n",
        "  * Number of Axis / Rank of the Tensor - x.ndim\n",
        "  * Shape of the Tensor - x.shape\n",
        "  * Datatype of the Tensor - x.dtype\n"
      ]
    },
    {
      "cell_type": "markdown",
      "metadata": {
        "id": "3xR5Dlf0Zveq",
        "colab_type": "text"
      },
      "source": [
        "**0-D Tensors**"
      ]
    },
    {
      "cell_type": "code",
      "metadata": {
        "id": "0vkjl4IiYSAH",
        "colab_type": "code",
        "colab": {}
      },
      "source": [
        "def print_tensor_details(var):\n",
        "  print('Attributes of the Given Tensor:')\n",
        "  print(f'Number of Axis / Rank of Tensor : {var.ndim}')\n",
        "  print(f'Shape of the Tensor : {var.shape}')\n",
        "  print(f'Datatype of the Tensor : {var.dtype}')"
      ],
      "execution_count": 0,
      "outputs": []
    },
    {
      "cell_type": "code",
      "metadata": {
        "id": "flqZRvhPYSED",
        "colab_type": "code",
        "outputId": "49424eb3-f43a-4625-9b37-e4d7479fd007",
        "colab": {
          "base_uri": "https://localhost:8080/",
          "height": 85
        }
      },
      "source": [
        "x = np.array(3)\n",
        "print_tensor_details(x)"
      ],
      "execution_count": 3,
      "outputs": [
        {
          "output_type": "stream",
          "text": [
            "Attributes of the Given Tensor:\n",
            "Number of Axis / Rank of Tensor : 0\n",
            "Shape of the Tensor : ()\n",
            "Datatype of the Tensor : int64\n"
          ],
          "name": "stdout"
        }
      ]
    },
    {
      "cell_type": "markdown",
      "metadata": {
        "id": "SZw7lr4NbVwh",
        "colab_type": "text"
      },
      "source": [
        "**1-D Tensors**"
      ]
    },
    {
      "cell_type": "code",
      "metadata": {
        "id": "n_9_kxXVYSHM",
        "colab_type": "code",
        "outputId": "379d51bb-2b93-4956-c792-9886b9406958",
        "colab": {
          "base_uri": "https://localhost:8080/",
          "height": 85
        }
      },
      "source": [
        "x = np.array([1,2,3,4,5])\n",
        "print_tensor_details(x)"
      ],
      "execution_count": 4,
      "outputs": [
        {
          "output_type": "stream",
          "text": [
            "Attributes of the Given Tensor:\n",
            "Number of Axis / Rank of Tensor : 1\n",
            "Shape of the Tensor : (5,)\n",
            "Datatype of the Tensor : int64\n"
          ],
          "name": "stdout"
        }
      ]
    },
    {
      "cell_type": "markdown",
      "metadata": {
        "id": "RluxJU9Kbm0W",
        "colab_type": "text"
      },
      "source": [
        "**2-D Tensors**"
      ]
    },
    {
      "cell_type": "code",
      "metadata": {
        "id": "eH7HGJyVYSJ1",
        "colab_type": "code",
        "outputId": "f98b6de2-47cc-4f1c-86af-f286480f1fe8",
        "colab": {
          "base_uri": "https://localhost:8080/",
          "height": 85
        }
      },
      "source": [
        "x = np.array([[1,2,3],[4,5,6]])\n",
        "print_tensor_details(x)"
      ],
      "execution_count": 5,
      "outputs": [
        {
          "output_type": "stream",
          "text": [
            "Attributes of the Given Tensor:\n",
            "Number of Axis / Rank of Tensor : 2\n",
            "Shape of the Tensor : (2, 3)\n",
            "Datatype of the Tensor : int64\n"
          ],
          "name": "stdout"
        }
      ]
    },
    {
      "cell_type": "markdown",
      "metadata": {
        "id": "YWSIGmKhb6NU",
        "colab_type": "text"
      },
      "source": [
        "**3-D Tensors**"
      ]
    },
    {
      "cell_type": "code",
      "metadata": {
        "id": "dhZmjU1vYSM5",
        "colab_type": "code",
        "outputId": "dab061b2-daf6-45f7-ad3a-4e2118b05bd7",
        "colab": {
          "base_uri": "https://localhost:8080/",
          "height": 85
        }
      },
      "source": [
        "x = np.array([[[1,2],[4,5],[7,8]],\n",
        "              [[2,3],[5,6],[8,9]],\n",
        "              [[1,1],[2,2],[3,3]],\n",
        "              [[2,2],[2,2],[2,2]]\n",
        "              ])\n",
        "print_tensor_details(x)"
      ],
      "execution_count": 6,
      "outputs": [
        {
          "output_type": "stream",
          "text": [
            "Attributes of the Given Tensor:\n",
            "Number of Axis / Rank of Tensor : 3\n",
            "Shape of the Tensor : (4, 3, 2)\n",
            "Datatype of the Tensor : int64\n"
          ],
          "name": "stdout"
        }
      ]
    },
    {
      "cell_type": "markdown",
      "metadata": {
        "id": "YZJcVyekeF8p",
        "colab_type": "text"
      },
      "source": [
        "**What does x.shape return?**\n",
        "\n",
        "It basically depends on the x.ndim, however, a broad view of what x.shape returns is as follows:\n",
        "\n",
        "x.shape ==> (a,b,c)\n",
        "\n",
        "where\n",
        "* a = number of samples in the given tensor.\n",
        "* b = number of rows in each 'a' sample of given tensor.\n",
        "* c = number of columns in each 'a' sample of given tensor.\n",
        "\n",
        "Here, a is also known as the batch size parameter as it denotes the batch size, further discussed in this notebook.\n",
        "\n",
        "\n",
        "\n",
        "Explanation:\n",
        "\n",
        "let x = 3-D tensor defined in the above code cell.\n",
        "\n",
        "here, x.shape ==> (4,3,2)\n",
        "\n",
        "There are total 4 examples of 2-D tensors in the given tensor.\n",
        "\n",
        "Hence, a = 4.\n",
        "\n",
        "Now, There are 3 number of rows in each sample/example of the given tensor.\n",
        "\n",
        "Hence, b = 3.\n",
        "\n",
        "Now, there are 2 columns in each sample/example of the given tensor.\n",
        "\n",
        "Hence, c = 2."
      ]
    },
    {
      "cell_type": "markdown",
      "metadata": {
        "id": "f0iwNwG6g5sz",
        "colab_type": "text"
      },
      "source": [
        "# **Tensors in MNIST Dataset**"
      ]
    },
    {
      "cell_type": "code",
      "metadata": {
        "id": "nE2bl3AeYSTL",
        "colab_type": "code",
        "outputId": "7d0789ae-9754-4287-db01-501e8700529d",
        "colab": {
          "base_uri": "https://localhost:8080/",
          "height": 34
        }
      },
      "source": [
        "# Loading the MNIST Dataset:\n",
        "\n",
        "%tensorflow_version 2.x\n",
        "\n",
        "import tensorflow as tf"
      ],
      "execution_count": 7,
      "outputs": [
        {
          "output_type": "stream",
          "text": [
            "TensorFlow 2.x selected.\n"
          ],
          "name": "stdout"
        }
      ]
    },
    {
      "cell_type": "code",
      "metadata": {
        "id": "-Cfrq0LRYSWc",
        "colab_type": "code",
        "outputId": "4f7901a8-4a63-4177-fa42-06ea6ef6394a",
        "colab": {
          "base_uri": "https://localhost:8080/",
          "height": 34
        }
      },
      "source": [
        "tf.__version__"
      ],
      "execution_count": 8,
      "outputs": [
        {
          "output_type": "execute_result",
          "data": {
            "text/plain": [
              "'2.0.0'"
            ]
          },
          "metadata": {
            "tags": []
          },
          "execution_count": 8
        }
      ]
    },
    {
      "cell_type": "code",
      "metadata": {
        "id": "j9eOgMqFYSaT",
        "colab_type": "code",
        "outputId": "5a84ce42-3b26-44cb-db3f-26058fda2f15",
        "colab": {
          "base_uri": "https://localhost:8080/",
          "height": 51
        }
      },
      "source": [
        "dataset = tf.keras.datasets.mnist\n",
        "\n",
        "(train_images, train_labels),(test_images, test_labels) = dataset.load_data()"
      ],
      "execution_count": 9,
      "outputs": [
        {
          "output_type": "stream",
          "text": [
            "Downloading data from https://storage.googleapis.com/tensorflow/tf-keras-datasets/mnist.npz\n",
            "11493376/11490434 [==============================] - 0s 0us/step\n"
          ],
          "name": "stdout"
        }
      ]
    },
    {
      "cell_type": "markdown",
      "metadata": {
        "id": "XMsRTXzThqkh",
        "colab_type": "text"
      },
      "source": [
        "**Tensor attributest of a single Tensor:**"
      ]
    },
    {
      "cell_type": "code",
      "metadata": {
        "id": "Y_666Htohkq7",
        "colab_type": "code",
        "outputId": "b9af55c6-ae5d-41e4-dbb2-f3c2dc09502a",
        "colab": {
          "base_uri": "https://localhost:8080/",
          "height": 85
        }
      },
      "source": [
        "x = train_images[0]\n",
        "print_tensor_details(x)"
      ],
      "execution_count": 10,
      "outputs": [
        {
          "output_type": "stream",
          "text": [
            "Attributes of the Given Tensor:\n",
            "Number of Axis / Rank of Tensor : 2\n",
            "Shape of the Tensor : (28, 28)\n",
            "Datatype of the Tensor : uint8\n"
          ],
          "name": "stdout"
        }
      ]
    },
    {
      "cell_type": "markdown",
      "metadata": {
        "id": "7zxUNsmrh6bd",
        "colab_type": "text"
      },
      "source": [
        "**Tensor Attributes of a batch of Tensors:**"
      ]
    },
    {
      "cell_type": "code",
      "metadata": {
        "id": "KMHIezZ_hlMw",
        "colab_type": "code",
        "outputId": "0a58d4a0-6c36-42f6-b9cf-c58ed477b88f",
        "colab": {
          "base_uri": "https://localhost:8080/",
          "height": 85
        }
      },
      "source": [
        "# Batch size of 128 :\n",
        "x = train_images[:128]\n",
        "print_tensor_details(x)"
      ],
      "execution_count": 11,
      "outputs": [
        {
          "output_type": "stream",
          "text": [
            "Attributes of the Given Tensor:\n",
            "Number of Axis / Rank of Tensor : 3\n",
            "Shape of the Tensor : (128, 28, 28)\n",
            "Datatype of the Tensor : uint8\n"
          ],
          "name": "stdout"
        }
      ]
    },
    {
      "cell_type": "code",
      "metadata": {
        "id": "pQCegyMWhlUm",
        "colab_type": "code",
        "outputId": "0e8f1eaf-a57b-429d-cca1-aabf77060a76",
        "colab": {
          "base_uri": "https://localhost:8080/",
          "height": 85
        }
      },
      "source": [
        "# Batch size of 128, with more control:\n",
        "x = train_images[128:256, :, :]\n",
        "print_tensor_details(x)"
      ],
      "execution_count": 12,
      "outputs": [
        {
          "output_type": "stream",
          "text": [
            "Attributes of the Given Tensor:\n",
            "Number of Axis / Rank of Tensor : 3\n",
            "Shape of the Tensor : (128, 28, 28)\n",
            "Datatype of the Tensor : uint8\n"
          ],
          "name": "stdout"
        }
      ]
    },
    {
      "cell_type": "code",
      "metadata": {
        "id": "SpM15PfzhlQ8",
        "colab_type": "code",
        "outputId": "4e5fbebf-f523-431a-9370-9d5d2c3ca92e",
        "colab": {
          "base_uri": "https://localhost:8080/",
          "height": 85
        }
      },
      "source": [
        "# Batch size of 128, with specific columns and rows:\n",
        "x = train_images[:128, 14:, 14:]\n",
        "# here 14: selects the bottom patch of each image.\n",
        "print_tensor_details(x)"
      ],
      "execution_count": 13,
      "outputs": [
        {
          "output_type": "stream",
          "text": [
            "Attributes of the Given Tensor:\n",
            "Number of Axis / Rank of Tensor : 3\n",
            "Shape of the Tensor : (128, 14, 14)\n",
            "Datatype of the Tensor : uint8\n"
          ],
          "name": "stdout"
        }
      ]
    },
    {
      "cell_type": "markdown",
      "metadata": {
        "id": "UMM_S2H2jJLn",
        "colab_type": "text"
      },
      "source": [
        "**Plotting the tensors in Matplotlib:**"
      ]
    },
    {
      "cell_type": "code",
      "metadata": {
        "id": "eGovRVzFhkov",
        "colab_type": "code",
        "colab": {}
      },
      "source": [
        "import matplotlib.pyplot as plt\n",
        "\n",
        "def plot_tensor(x):\n",
        "  plt.imshow(x, cmap = plt.cm.binary)\n",
        "  plt.colorbar()\n",
        "  plt.show()"
      ],
      "execution_count": 0,
      "outputs": []
    },
    {
      "cell_type": "code",
      "metadata": {
        "id": "L0xZFlaIhkmy",
        "colab_type": "code",
        "outputId": "c9cf85f7-4aa6-46a4-c0a7-34a20ab2e659",
        "colab": {
          "base_uri": "https://localhost:8080/",
          "height": 265
        }
      },
      "source": [
        "# Plotting single tensor:\n",
        "x = train_images[0]\n",
        "plot_tensor(x)"
      ],
      "execution_count": 15,
      "outputs": [
        {
          "output_type": "display_data",
          "data": {
            "image/png": "[encoded data removed]",
            "text/plain": [
              "<Figure size 432x288 with 2 Axes>"
            ]
          },
          "metadata": {
            "tags": []
          }
        }
      ]
    },
    {
      "cell_type": "code",
      "metadata": {
        "id": "fYIkOFINhkkE",
        "colab_type": "code",
        "outputId": "fe66f42a-9d94-4af8-8943-71ddaa888205",
        "colab": {
          "base_uri": "https://localhost:8080/",
          "height": 516
        }
      },
      "source": [
        "# Plotting bottom patch:\n",
        "x = train_images[15, 14:, 14:]\n",
        "plot_tensor(x)\n",
        "\n",
        "# Plotting middle patch:\n",
        "x = train_images[15,:14, :14]\n",
        "plot_tensor(x)"
      ],
      "execution_count": 16,
      "outputs": [
        {
          "output_type": "display_data",
          "data": {
            "image/png": "[encoded data removed]",
            "text/plain": [
              "<Figure size 432x288 with 2 Axes>"
            ]
          },
          "metadata": {
            "tags": []
          }
        },
        {
          "output_type": "display_data",
          "data": {
            "image/png": "[encoded data removed]",
            "text/plain": [
              "<Figure size 432x288 with 2 Axes>"
            ]
          },
          "metadata": {
            "tags": []
          }
        }
      ]
    },
    {
      "cell_type": "markdown",
      "metadata": {
        "id": "zhCw7vglfHRt",
        "colab_type": "text"
      },
      "source": [
        "**Get nth Batch of the Dataset:**"
      ]
    },
    {
      "cell_type": "code",
      "metadata": {
        "id": "ZWsynzQmhkey",
        "colab_type": "code",
        "colab": {
          "base_uri": "https://localhost:8080/",
          "height": 51
        },
        "outputId": "71d598b4-70e4-44c9-a192-ef0fa2745bde"
      },
      "source": [
        "# Code to get nth batch of the dataset:\n",
        "\n",
        "x = train_images\n",
        "\n",
        "def get_nth_batch(x,n, batch_size = 128):\n",
        "  print(f'Batch from {(n-1)*batch_size} to {n*batch_size} datapoints out of total {x.shape[0]} datapoints')\n",
        "  return x[(n-1)*batch_size: (n*batch_size)]\n",
        "\n",
        "print(get_nth_batch(x,3).shape)\n"
      ],
      "execution_count": 23,
      "outputs": [
        {
          "output_type": "stream",
          "text": [
            "Batch from 256 to 384 datapoints out of total 10000 datapoints\n",
            "(128, 28, 28)\n"
          ],
          "name": "stdout"
        }
      ]
    }
  ]
}