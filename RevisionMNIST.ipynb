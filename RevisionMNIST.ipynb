{
  "nbformat": 4,
  "nbformat_minor": 0,
  "metadata": {
    "colab": {
      "name": "RevisionMNIST.ipynb",
      "provenance": [],
      "private_outputs": true,
      "include_colab_link": true
    },
    "kernelspec": {
      "name": "python3",
      "display_name": "Python 3"
    },
    "accelerator": "GPU"
  },
  "cells": [
    {
      "cell_type": "markdown",
      "metadata": {
        "id": "view-in-github",
        "colab_type": "text"
      },
      "source": [
        "<a href=\"https://colab.research.google.com/github/dhruvilmaniar/PracticalTF/blob/master/RevisionMNIST.ipynb\" target=\"_parent\"><img src=\"https://colab.research.google.com/assets/colab-badge.svg\" alt=\"Open In Colab\"/></a>"
      ]
    },
    {
      "cell_type": "code",
      "metadata": {
        "id": "-6pnL-lRNVLI",
        "colab_type": "code",
        "colab": {}
      },
      "source": [
        "%tensorflow_version 2.x\n",
        "\n",
        "!pip install -q tensorflow"
      ],
      "execution_count": 0,
      "outputs": []
    },
    {
      "cell_type": "code",
      "metadata": {
        "id": "MUsucvO5NdDB",
        "colab_type": "code",
        "colab": {}
      },
      "source": [
        "import tensorflow as tf\n",
        "import numpy as np\n",
        "import pandas as pd\n",
        "import matplotlib.pyplot as plt\n",
        "\n",
        "tf.__version__"
      ],
      "execution_count": 0,
      "outputs": []
    },
    {
      "cell_type": "markdown",
      "metadata": {
        "id": "_BLlsG3LOA6q",
        "colab_type": "text"
      },
      "source": [
        "# **DATASET - MNIST Digits**"
      ]
    },
    {
      "cell_type": "code",
      "metadata": {
        "id": "dQ4zhLCUNdYE",
        "colab_type": "code",
        "colab": {}
      },
      "source": [
        "dataset = tf.keras.datasets.mnist\n",
        "(train_image, train_label), (test_image, test_label) = dataset.load_data()"
      ],
      "execution_count": 0,
      "outputs": []
    },
    {
      "cell_type": "code",
      "metadata": {
        "id": "n6I2NQheNdpA",
        "colab_type": "code",
        "colab": {}
      },
      "source": [
        "print(train_image.shape, test_image.shape)\n",
        "print(train_label.shape, test_label.shape)"
      ],
      "execution_count": 0,
      "outputs": []
    },
    {
      "cell_type": "code",
      "metadata": {
        "id": "_U1HQmBPNdvT",
        "colab_type": "code",
        "colab": {}
      },
      "source": [
        "train_image, test_image = train_image/ 255.0, test_image/255.0"
      ],
      "execution_count": 0,
      "outputs": []
    },
    {
      "cell_type": "code",
      "metadata": {
        "id": "0oOHW-6oPS0Z",
        "colab_type": "code",
        "colab": {}
      },
      "source": [
        "import matplotlib.pyplot as plt"
      ],
      "execution_count": 0,
      "outputs": []
    },
    {
      "cell_type": "code",
      "metadata": {
        "id": "la6h5-OYNdUv",
        "colab_type": "code",
        "colab": {}
      },
      "source": [
        "def show_image(img, label):\n",
        "  plt.imshow(img, cmap = plt.cm.binary)\n",
        "  plt.title(label)\n",
        "  plt.colorbar()\n",
        "  plt.show()\n",
        "\n",
        "show_image(train_image[6565],train_label[6565])"
      ],
      "execution_count": 0,
      "outputs": []
    },
    {
      "cell_type": "code",
      "metadata": {
        "id": "oLOIs-3ANdSB",
        "colab_type": "code",
        "colab": {}
      },
      "source": [
        "model = tf.keras.Sequential()\n",
        "model.add(tf.keras.layers.Flatten(input_shape=(28,28)))\n",
        "model.add(tf.keras.layers.Dense(64, activation='relu'))\n",
        "model.add(tf.keras.layers.Dense(64, activation='relu'))\n",
        "model.add(tf.keras.layers.Dense(10, activation='softmax'))\n",
        "\n",
        "model.compile(\n",
        "    optimizer = 'adam',\n",
        "    loss = 'sparse_categorical_crossentropy',\n",
        "    metrics = ['acc']\n",
        ")"
      ],
      "execution_count": 0,
      "outputs": []
    },
    {
      "cell_type": "code",
      "metadata": {
        "id": "6PnVTnQmNdP5",
        "colab_type": "code",
        "colab": {}
      },
      "source": [
        "model.fit(train_image, train_label, epochs=5)\n",
        "\n",
        "test_loss, test_acc = model.evaluate(test_image, test_label)"
      ],
      "execution_count": 0,
      "outputs": []
    },
    {
      "cell_type": "code",
      "metadata": {
        "id": "u7YDla2CNdN0",
        "colab_type": "code",
        "colab": {}
      },
      "source": [
        "predictions = model.predict(test_image)\n",
        "predictions.shape"
      ],
      "execution_count": 0,
      "outputs": []
    },
    {
      "cell_type": "code",
      "metadata": {
        "id": "cMhP54ocNdLn",
        "colab_type": "code",
        "colab": {}
      },
      "source": [
        "show_image(test_image[7800], np.argmax(predictions[7800]))\n",
        "print(predictions[7800])"
      ],
      "execution_count": 0,
      "outputs": []
    },
    {
      "cell_type": "code",
      "metadata": {
        "id": "3q-9lZSeNdHh",
        "colab_type": "code",
        "colab": {}
      },
      "source": [
        "count = 0\n",
        "for i in range(10000):\n",
        "\n",
        "  if np.argmax(predictions[i]) != test_label[i]:\n",
        "    print(i)\n",
        "    count+=1\n",
        "\n",
        "print(count)\n",
        "  "
      ],
      "execution_count": 0,
      "outputs": []
    },
    {
      "cell_type": "markdown",
      "metadata": {
        "id": "VfJ_J6DnT3Ls",
        "colab_type": "text"
      },
      "source": [
        "# **DATASET - Fashion MNIST**"
      ]
    },
    {
      "cell_type": "code",
      "metadata": {
        "id": "3g7Oy3oYNc_Z",
        "colab_type": "code",
        "colab": {}
      },
      "source": [
        "dataset = tf.keras.datasets.fashion_mnist\n",
        "\n",
        "(train_images, train_labels), (test_images, test_labels) = dataset.load_data()"
      ],
      "execution_count": 0,
      "outputs": []
    },
    {
      "cell_type": "code",
      "metadata": {
        "id": "1lztngE7USQX",
        "colab_type": "code",
        "colab": {}
      },
      "source": [
        "print(train_images.shape, test_images.shape)\n",
        "print(train_labels.shape, test_labels.shape)"
      ],
      "execution_count": 0,
      "outputs": []
    },
    {
      "cell_type": "code",
      "metadata": {
        "id": "_-bLpmwFUSOa",
        "colab_type": "code",
        "colab": {}
      },
      "source": [
        "print(train_images[0].shape)"
      ],
      "execution_count": 0,
      "outputs": []
    },
    {
      "cell_type": "code",
      "metadata": {
        "id": "p04XB4MjUSKD",
        "colab_type": "code",
        "colab": {}
      },
      "source": [
        "model = tf.keras.Sequential()\n",
        "model.add(tf.keras.layers.Flatten(input_shape=(28,28)))\n",
        "model.add(tf.keras.layers.Dense(64, activation = 'relu'))\n",
        "model.add(tf.keras.layers.Dense(128, activation = 'relu'))\n",
        "model.add(tf.keras.layers.Dense(10, activation='softmax'))\n",
        "\n",
        "model.compile(\n",
        "    optimizer = 'RMSprop',\n",
        "    loss = 'sparse_categorical_crossentropy',\n",
        "    metrics = ['acc']\n",
        ")"
      ],
      "execution_count": 0,
      "outputs": []
    },
    {
      "cell_type": "code",
      "metadata": {
        "id": "am48ta9RUSHL",
        "colab_type": "code",
        "colab": {}
      },
      "source": [
        "model.fit(train_images, train_labels, epochs = 10)"
      ],
      "execution_count": 0,
      "outputs": []
    },
    {
      "cell_type": "code",
      "metadata": {
        "id": "ufd4AWOEUSEV",
        "colab_type": "code",
        "colab": {}
      },
      "source": [
        "predictions = model.predict(test_images, test_labels)\n",
        "predictions.shape"
      ],
      "execution_count": 0,
      "outputs": []
    },
    {
      "cell_type": "code",
      "metadata": {
        "id": "XJLt2XOQUSBZ",
        "colab_type": "code",
        "colab": {}
      },
      "source": [
        ""
      ],
      "execution_count": 0,
      "outputs": []
    },
    {
      "cell_type": "code",
      "metadata": {
        "id": "HyM7iok8UR96",
        "colab_type": "code",
        "colab": {}
      },
      "source": [
        ""
      ],
      "execution_count": 0,
      "outputs": []
    }
  ]
}